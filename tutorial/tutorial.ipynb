{
 "cells": [
  {
   "cell_type": "markdown",
   "metadata": {},
   "source": [
    "\n",
    "<img align=\"left\" src = https://www.linea.org.br/wp-content/themes/LIneA/imagens/logo-header.png width=100 style=\"padding: 20px\"> \n",
    "<img align=\"left\" src = https://project.lsst.org/sites/default/files/Rubin-O-Logo_0.png width=160 style=\"padding: 20px\"> \n",
    "\n",
    "## Photo-z Server - Tutorial Notebook\n",
    "**Contact author**: Julia Gschwend ([julia@linea.org.br](mailto:julia@linea.org.br)) <br> \n",
    "**Last verified run**: yyyy-mm-dd <br>\n",
    "\n"
   ]
  },
  {
   "cell_type": "markdown",
   "metadata": {},
   "source": [
    "\n",
    "The Photo-z Server is an online service available for the LSST Community to host and share lightweight photo-z related data products. The upload and download of data and metadata is done at the website www.linea.org.br/pz-server (RSP authentication required). There you will find two separate pages containing a list of data products each: one for LSST Data Management's oficial data products, and one for user-generated data products. \n",
    "\n",
    "The registered data products can be accessed directly from Python code using the Photo-z Server's data access API, as demonstrated below.   \n",
    "For a comprehensive documentation about the Photo-z Server, please visit the [Photo-z Server's documentation page](<add link to readthedocs>).\n",
    "<font color=red> to do: add link to readthedocs  </font>"
   ]
  },
  {
   "cell_type": "markdown",
   "metadata": {},
   "source": [
    "#### Setup"
   ]
  },
  {
   "cell_type": "code",
   "execution_count": null,
   "metadata": {},
   "outputs": [],
   "source": [
    "from pz_server import PzServer"
   ]
  },
  {
   "cell_type": "code",
   "execution_count": null,
   "metadata": {},
   "outputs": [],
   "source": [
    "pz_server = PzServer()"
   ]
  },
  {
   "cell_type": "markdown",
   "metadata": {},
   "source": [
    "<font color=red> user authorization here?  Capture github credentials to generate the token </font>"
   ]
  },
  {
   "cell_type": "code",
   "execution_count": null,
   "metadata": {},
   "outputs": [],
   "source": []
  },
  {
   "cell_type": "markdown",
   "metadata": {},
   "source": [
    "#### Get basic info from PZ Server\n",
    "\n",
    "The object `pz_server` brings some useful attributes for the user to navigate throug the available contents. \n",
    "To display the list of product types supported with a short description:"
   ]
  },
  {
   "cell_type": "code",
   "execution_count": null,
   "metadata": {},
   "outputs": [],
   "source": [
    "pz_server.list_product_types(md=True) # md=True: display markdown table with product type names and description \n",
    "                                      # default is md=False : return dictionary "
   ]
  },
  {
   "cell_type": "code",
   "execution_count": null,
   "metadata": {},
   "outputs": [],
   "source": [
    "pz_server.list_users(md=True) # display markdown table with github users with link to respective github profiles\n",
    "                              # default is md=False : return list \n",
    "                              # alphabetical order, except by DM's admin user that comes at first position "
   ]
  },
  {
   "cell_type": "code",
   "execution_count": null,
   "metadata": {},
   "outputs": [],
   "source": [
    "pz_server.list_releases # display markdown table with LSST releases (e.g.: DP0.1, DP0.2, DP1, DP2, DR1, ...) \n",
    "                        # include only those available at the time \n",
    "                        # default is md=False : return list "
   ]
  },
  {
   "cell_type": "markdown",
   "metadata": {},
   "source": [
    "## Spec-z Catalog \n",
    "#### List Spec-z Catalogs available on Pz Server"
   ]
  },
  {
   "cell_type": "code",
   "execution_count": null,
   "metadata": {},
   "outputs": [],
   "source": [
    "pz_server.list_products(filters={user:\"PZ Coord. Group\",  # Admin? \n",
    "                                 product_type=\"specz_catalog\", \n",
    "                                 release=\"all\"})\n",
    "                        # default: filter=None -> show all products \n",
    "                        # return dic with product_id an short description provided by the user when uoploaded"
   ]
  },
  {
   "cell_type": "markdown",
   "metadata": {},
   "source": [
    "#### Get metadata of a given Spec-z Catalog "
   ]
  },
  {
   "cell_type": "code",
   "execution_count": null,
   "metadata": {},
   "outputs": [],
   "source": [
    "metadata_specz_1 = PzServer.get_product_metadata(product_id=\"0001\", md=True)\n",
    "metadata_specz_1  # markdown table / dic "
   ]
  },
  {
   "cell_type": "code",
   "execution_count": null,
   "metadata": {},
   "outputs": [],
   "source": [
    "metadata_specz_2 = PzServer.get_product_metadata(product_id=\"0002\")\n",
    "metadata_specz_2  # markdown table / dic "
   ]
  },
  {
   "cell_type": "code",
   "execution_count": null,
   "metadata": {},
   "outputs": [],
   "source": [
    "metadata_specz_3 = PzServer.get_product_metadata(product_id=\"0003\")\n",
    "metadata_specz_3  # markdown table / dic "
   ]
  },
  {
   "cell_type": "markdown",
   "metadata": {},
   "source": [
    "#### Retrieve a given Spec-z Catalog as Pandas DataFrame object"
   ]
  },
  {
   "cell_type": "code",
   "execution_count": null,
   "metadata": {},
   "outputs": [],
   "source": [
    "dataframe_specz_1 = PzServer.get_product(product_id=\"0001\", save_file=\"False\")\n",
    "dataframe_specz_2 = PzServer.get_product(product_id=\"0002\", save_file=\"False\")\n",
    "dataframe_specz_3 = PzServer.get_product(product_id=\"0003\", save_file=\"False\")"
   ]
  },
  {
   "cell_type": "markdown",
   "metadata": {},
   "source": [
    "Display basic statistics"
   ]
  },
  {
   "cell_type": "code",
   "execution_count": null,
   "metadata": {},
   "outputs": [],
   "source": [
    "dataframe_specz_1.describe()"
   ]
  },
  {
   "cell_type": "code",
   "execution_count": null,
   "metadata": {},
   "outputs": [],
   "source": [
    "dataframe_specz_2.describe()"
   ]
  },
  {
   "cell_type": "code",
   "execution_count": null,
   "metadata": {},
   "outputs": [],
   "source": [
    "dataframe_specz_3.describe()"
   ]
  },
  {
   "cell_type": "markdown",
   "metadata": {},
   "source": [
    "Mini QA Spec-z Catalogs"
   ]
  },
  {
   "cell_type": "code",
   "execution_count": null,
   "metadata": {},
   "outputs": [],
   "source": [
    "pz_server.qa_specz(data=[dataframe_specz_1, dataframe_specz_2, dataframe_specz_3],\n",
    "                   metadata=[metadata_specz_1, metadata_specz_2, metadata_specz_3])"
   ]
  },
  {
   "cell_type": "markdown",
   "metadata": {},
   "source": [
    "## Training and Validation Sets \n",
    "#### List Training and Validation Sets available on Pz Server"
   ]
  },
  {
   "cell_type": "code",
   "execution_count": null,
   "metadata": {},
   "outputs": [],
   "source": [
    "pz_server.list_products_available(user=\"PZ Coord. Group\", product_type=\"train_set\", release=\"all\")"
   ]
  },
  {
   "cell_type": "code",
   "execution_count": null,
   "metadata": {},
   "outputs": [],
   "source": [
    "pz_server.list_products_available(user=\"PZ Coord. Group\", product_type=\"valid_set\", release=\"all\")"
   ]
  },
  {
   "cell_type": "markdown",
   "metadata": {},
   "source": [
    "#### Get metadata of a given Training Set"
   ]
  },
  {
   "cell_type": "code",
   "execution_count": null,
   "metadata": {},
   "outputs": [],
   "source": [
    "metadata_train_set = PzServer.get_product_metadata(product_id=\"0004\")\n",
    "metadata_train_set  # markdown table"
   ]
  },
  {
   "cell_type": "markdown",
   "metadata": {},
   "source": [
    "#### Get metadata of a given Validation Set"
   ]
  },
  {
   "cell_type": "code",
   "execution_count": null,
   "metadata": {},
   "outputs": [],
   "source": [
    "metadata_valid_set = PzServer.get_product_metadata(product_id=\"0005\")\n",
    "metadata_valid_set  # markdown table"
   ]
  },
  {
   "cell_type": "markdown",
   "metadata": {},
   "source": [
    "#### Retrieve a given Training (or Validation) Set as Pandas DataFrame object"
   ]
  },
  {
   "cell_type": "code",
   "execution_count": null,
   "metadata": {},
   "outputs": [],
   "source": [
    "dataframe_train_set = PzServer.get_product(product_id=\"0004\", save_file=\"False\")\n",
    "dataframe_valid_set = PzServer.get_product(product_id=\"0005\", save_file=\"False\")"
   ]
  },
  {
   "cell_type": "markdown",
   "metadata": {},
   "source": [
    "Display basic statistics"
   ]
  },
  {
   "cell_type": "code",
   "execution_count": null,
   "metadata": {},
   "outputs": [],
   "source": [
    "dataframe_train_set.describe()"
   ]
  },
  {
   "cell_type": "code",
   "execution_count": null,
   "metadata": {},
   "outputs": [],
   "source": [
    "dataframe_valid_set.describe()"
   ]
  },
  {
   "cell_type": "markdown",
   "metadata": {},
   "source": [
    "Mini QA Traininig and Validaiton Sets"
   ]
  },
  {
   "cell_type": "code",
   "execution_count": null,
   "metadata": {},
   "outputs": [],
   "source": [
    "pz_server.qa_train_valid(data=[dataframe_train_set, dataframe_valid_set], \n",
    "                         metadata=[metadata_train_set, metadata_valid_set])"
   ]
  },
  {
   "cell_type": "markdown",
   "metadata": {},
   "source": [
    "## Photo-z Validation Results\n",
    "#### List Photo-z Validation Results available on Pz Server"
   ]
  },
  {
   "cell_type": "code",
   "execution_count": null,
   "metadata": {},
   "outputs": [],
   "source": [
    "pz_server.list_products_available(user=\"PZ Coord. Group\", product_type=\"pz_result\", release=\"all\")"
   ]
  },
  {
   "cell_type": "markdown",
   "metadata": {},
   "source": [
    "#### Get metadata of a given Training Set"
   ]
  },
  {
   "cell_type": "code",
   "execution_count": null,
   "metadata": {},
   "outputs": [],
   "source": [
    "metadata_pz_result = PzServer.get_product_metadata(product_id=\"0006\")\n",
    "metadata_pz_result  # markdown table"
   ]
  },
  {
   "cell_type": "markdown",
   "metadata": {},
   "source": [
    "#### Retrieve a given Photo-z Validation Result: download .tar file"
   ]
  },
  {
   "cell_type": "code",
   "execution_count": null,
   "metadata": {},
   "outputs": [],
   "source": [
    "pz_result = PzServer.get_product(product_id=\"0006\", save_file=\"True\")\n",
    "pz_result # string tar file name"
   ]
  },
  {
   "cell_type": "markdown",
   "metadata": {},
   "source": [
    "#### Basic Photo-z Validation Plots\n",
    "\n",
    "Reuse RAIL evaluation plots and tables for illustration with an example of Photo-z Validation Results. "
   ]
  },
  {
   "cell_type": "code",
   "execution_count": null,
   "metadata": {},
   "outputs": [],
   "source": [
    "#  open .tar file "
   ]
  },
  {
   "cell_type": "code",
   "execution_count": null,
   "metadata": {},
   "outputs": [],
   "source": [
    "from RAIL.examples.evaluation.utils import *\n",
    "from RAIL.rail.evaluation.metrics.pit import *\n",
    "from RAIL.rail.evaluation.metrics.cdeloss import *"
   ]
  },
  {
   "cell_type": "code",
   "execution_count": null,
   "metadata": {},
   "outputs": [],
   "source": [
    "my_path = 'xxx/xxx/xx' \n",
    "pdfs_file =  os.path.join(my_path, \"pdfs_FZBoost.hdf5\")\n",
    "ztrue_file =  os.path.join(my_path, \"ztrue_validation_set.hdf5\")\n",
    "pdfs, zgrid, ztrue, photoz_mode = read_pz_output(pdfs_file, ztrue_file) # all numpy arrays"
   ]
  },
  {
   "cell_type": "markdown",
   "metadata": {},
   "source": [
    "Plot PIT-QQ"
   ]
  },
  {
   "cell_type": "code",
   "execution_count": null,
   "metadata": {},
   "outputs": [],
   "source": [
    "plot_pit_qq(pdfs, zgrid, ztrue, title=\"PIT-QQ - toy data\", code=\"FZBoost\",\n",
    "                pit_out_rate=pit_out_rate, savefig=False)"
   ]
  },
  {
   "cell_type": "markdown",
   "metadata": {},
   "source": [
    "PZ Validation metrics table"
   ]
  },
  {
   "cell_type": "code",
   "execution_count": null,
   "metadata": {},
   "outputs": [],
   "source": [
    "summary = Summary(pdfs, zgrid, ztrue)\n",
    "summary.markdown_metrics_table(pitobj=pitobj) # pitobj as optional input to speed-up metrics evaluation"
   ]
  }
 ],
 "metadata": {
  "kernelspec": {
   "display_name": "Python 3",
   "language": "python",
   "name": "python3"
  },
  "language_info": {
   "codemirror_mode": {
    "name": "ipython",
    "version": 3
   },
   "file_extension": ".py",
   "mimetype": "text/x-python",
   "name": "python",
   "nbconvert_exporter": "python",
   "pygments_lexer": "ipython3",
   "version": "3.7.9"
  }
 },
 "nbformat": 4,
 "nbformat_minor": 4
}
