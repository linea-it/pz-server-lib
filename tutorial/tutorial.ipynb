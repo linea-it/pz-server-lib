{
 "cells": [
  {
   "cell_type": "markdown",
   "metadata": {},
   "source": [
    "<img align=\"left\" src = https://linea.org.br/wp-content/themes/LIneA/imagens/logo-header.jpg width=100 style=\"padding: 20px\"> \n",
    "\n",
    "\n",
    "<img align=\"left\" src = https://project.lsst.org/sites/default/files/Rubin-O-Logo_0.png width=160 style=\"padding: 20px\">  \n",
    "\n",
    "## Photo-z Server - Tutorial Notebook\n",
    "\n",
    "**Contact author**: Julia Gschwend ([julia@linea.org.br](mailto:julia@linea.org.br)) \n",
    "\n",
    "**Last verified run**: yyyy-mm-dd <br>\n",
    "\n"
   ]
  },
  {
   "cell_type": "markdown",
   "metadata": {},
   "source": [
    "### Introduction\n",
    "The Photo-z Server is an online service available for the LSST Community to host and share lightweight photo-z related data products. The upload and download of data and metadata is done at the website www.linea.org.br/pz-server (RSP authentication required). There you will find two separate pages containing a list of data products each: one for LSST Data Management's oficial data products, and one for user-generated data products. \n",
    "<font color=red> to do: update URL when production environment is online </font>\n",
    "\n",
    "The registered data products can also be accessed directly from Python code using the Photo-z Server's data access API, as demonstrated below. For a comprehensive documentation about the Photo-z Server, please visit the [Photo-z Server's documentation page](<add link to readthedocs>).\n",
    "<font color=red> to do: add link to readthedocs  </font>\n",
    "\n",
    "The Photo-z Server is developed and delivered as part of the in-kind contribution program BRA-LIN, from LIneA to the Rubin Observatory's LSST. An overview of this and other contributions related to Photo-zs is available [here](https://linea-it.github.io/pz-lsst-inkind-doc/).  \n"
   ]
  },
  {
   "cell_type": "markdown",
   "metadata": {},
   "source": [
    "#### Setup"
   ]
  },
  {
   "cell_type": "code",
   "execution_count": null,
   "metadata": {},
   "outputs": [],
   "source": [
    "! export PYTHONPATH=$PYTHONPATH:/Users/julia/github/pz-server-lib"
   ]
  },
  {
   "cell_type": "code",
   "execution_count": null,
   "metadata": {},
   "outputs": [],
   "source": [
    "from pz_server import PzServer"
   ]
  },
  {
   "cell_type": "markdown",
   "metadata": {},
   "source": [
    "The connection with the Photo-z Server from Python code is done by an object of the class `PzServer`. To get authorization to define an instance of `PzServer`, the RSP users must provide an **API Token** generated on the [Photo-z Server website](www.linea.org.br/pz-server). See the steps on the screenshots below.  \n",
    "<font color=red> to do: check link URL </font>"
   ]
  },
  {
   "cell_type": "markdown",
   "metadata": {},
   "source": [
    "<img src=\"./images/ScreenShot1.png\" width=110pt style=\"padding: 30px\"/> <img src=\"./images/ScreenShot2.png\" width=300pt />\n"
   ]
  },
  {
   "cell_type": "markdown",
   "metadata": {},
   "source": [
    "<font color=red> to do: UPDATE screenshots  </font>"
   ]
  },
  {
   "cell_type": "code",
   "execution_count": null,
   "metadata": {},
   "outputs": [],
   "source": [
    "pz_server = PzServer(token=\"<paste your API Token here>\") "
   ]
  },
  {
   "cell_type": "markdown",
   "metadata": {},
   "source": [
    "#### Get basic info from PZ Server\n",
    "\n",
    "The object `pz_server` brings some useful attributes for the user to navigate throug the available contents.\n",
    "\n",
    "For instance:\n",
    "\n",
    "Display the list of product types supported with a short description;"
   ]
  },
  {
   "cell_type": "code",
   "execution_count": null,
   "metadata": {},
   "outputs": [],
   "source": [
    "pz_server.list_product_types.to_pandas() "
   ]
  },
  {
   "cell_type": "markdown",
   "metadata": {},
   "source": [
    "Display the list of users who uploaded data products to the server;"
   ]
  },
  {
   "cell_type": "code",
   "execution_count": null,
   "metadata": {},
   "outputs": [],
   "source": [
    "pz_server.list_users.to_pandas()"
   ]
  },
  {
   "cell_type": "markdown",
   "metadata": {},
   "source": [
    "Display the list of data releases available at the time. "
   ]
  },
  {
   "cell_type": "code",
   "execution_count": null,
   "metadata": {},
   "outputs": [],
   "source": [
    "pz_server.list_releases.to_pandas() "
   ]
  },
  {
   "cell_type": "markdown",
   "metadata": {},
   "source": [
    "The information above can be used to filter the data products of interest for your search.\n",
    "\n",
    "The cells below show examples of usage organized by product types. "
   ]
  },
  {
   "cell_type": "markdown",
   "metadata": {
    "tags": []
   },
   "source": [
    "## Spec-z Catalog \n",
    "#### List Spec-z Catalogs available on Pz Server"
   ]
  },
  {
   "cell_type": "code",
   "execution_count": null,
   "metadata": {},
   "outputs": [],
   "source": [
    "pz_server.list_products(filters={user:\"PZ Coord. Group\",  \n",
    "                                 product_type=\"specz_catalog\", \n",
    "                                 release=\"all\"}).to_pandas()"
   ]
  },
  {
   "cell_type": "markdown",
   "metadata": {},
   "source": [
    "#### Get metadata of a given Spec-z Catalog "
   ]
  },
  {
   "cell_type": "code",
   "execution_count": null,
   "metadata": {},
   "outputs": [],
   "source": [
    "metadata_specz_catalog = pz_server.get_product_metadata(product_id=\"0001\")\n",
    "metadata_specz_catalog "
   ]
  },
  {
   "cell_type": "markdown",
   "metadata": {},
   "source": [
    "#### Retrieve a given Spec-z Catalog (as Astropy table or Pandas DataFrame)"
   ]
  },
  {
   "cell_type": "code",
   "execution_count": null,
   "metadata": {},
   "outputs": [],
   "source": [
    "specz_catalog = pz_server.get_product(product_id=\"0001\", save_file=\"False\").to_pandas()\n",
    "specz_catalog"
   ]
  },
  {
   "cell_type": "markdown",
   "metadata": {},
   "source": [
    "Display basic statistics"
   ]
  },
  {
   "cell_type": "code",
   "execution_count": null,
   "metadata": {},
   "outputs": [],
   "source": [
    "dataframe_specz_1.describe()"
   ]
  },
  {
   "cell_type": "markdown",
   "metadata": {},
   "source": [
    "Quick visualization of spec-z catalog properties"
   ]
  },
  {
   "cell_type": "code",
   "execution_count": null,
   "metadata": {},
   "outputs": [],
   "source": [
    "pz_server.specz_plots(data=specz_catalog, metadata=metadata_specz_catalog)"
   ]
  },
  {
   "cell_type": "markdown",
   "metadata": {},
   "source": [
    "## Training and Validation Sets \n",
    "#### List Training and Validation Sets available on Pz Server"
   ]
  },
  {
   "cell_type": "code",
   "execution_count": null,
   "metadata": {},
   "outputs": [],
   "source": [
    "pz_server.list_products(filters={user:\"PZ Coord. Group\",   \n",
    "                                 product_type=\"train_set\", \n",
    "                                 release=\"all\"}).to_pandas()"
   ]
  },
  {
   "cell_type": "code",
   "execution_count": null,
   "metadata": {},
   "outputs": [],
   "source": [
    "pz_server.list_products(filters={user:\"PZ Coord. Group\",   \n",
    "                                 product_type=\"valid_set\", \n",
    "                                 release=\"all\"}).to_pandas()"
   ]
  },
  {
   "cell_type": "markdown",
   "metadata": {},
   "source": [
    "#### Get metadata of a given Training Set"
   ]
  },
  {
   "cell_type": "code",
   "execution_count": null,
   "metadata": {},
   "outputs": [],
   "source": [
    "metadata_train_set = PzServer.get_product_metadata(product_id=\"0004\")\n",
    "metadata_train_set "
   ]
  },
  {
   "cell_type": "markdown",
   "metadata": {},
   "source": [
    "#### Get metadata of a given Validation Set"
   ]
  },
  {
   "cell_type": "code",
   "execution_count": null,
   "metadata": {},
   "outputs": [],
   "source": [
    "metadata_valid_set = PzServer.get_product_metadata(product_id=\"0005\")\n",
    "metadata_valid_set "
   ]
  },
  {
   "cell_type": "markdown",
   "metadata": {},
   "source": [
    "#### Retrieve a given Training (or Validation) Set (as Astropy table or Pandas DataFrame)"
   ]
  },
  {
   "cell_type": "code",
   "execution_count": null,
   "metadata": {},
   "outputs": [],
   "source": [
    "train_set = PzServer.get_product(product_id=\"0004\", save_file=\"False\").to_pandas()\n",
    "valid_set = PzServer.get_product(product_id=\"0005\", save_file=\"False\").to_pandas()"
   ]
  },
  {
   "cell_type": "markdown",
   "metadata": {},
   "source": [
    "Display basic statistics"
   ]
  },
  {
   "cell_type": "code",
   "execution_count": null,
   "metadata": {},
   "outputs": [],
   "source": [
    "dataframe_train_set.describe()"
   ]
  },
  {
   "cell_type": "code",
   "execution_count": null,
   "metadata": {},
   "outputs": [],
   "source": [
    "dataframe_valid_set.describe()"
   ]
  },
  {
   "cell_type": "markdown",
   "metadata": {},
   "source": [
    "Quick visualization of training/validation sets properties"
   ]
  },
  {
   "cell_type": "code",
   "execution_count": null,
   "metadata": {},
   "outputs": [],
   "source": [
    "pz_server.train_valid_plots(data=[dataframe_train_set, dataframe_valid_set], \n",
    "                         metadata=[metadata_train_set, metadata_valid_set])"
   ]
  },
  {
   "cell_type": "markdown",
   "metadata": {},
   "source": [
    "## Photo-z Validation Results\n",
    "#### List Photo-z Validation Results available on Pz Server"
   ]
  },
  {
   "cell_type": "code",
   "execution_count": null,
   "metadata": {},
   "outputs": [],
   "source": [
    "pz_server.list_products(filters={user:\"PZ Coord. Group\",   \n",
    "                                 product_type=\"pz_result\", \n",
    "                                 release=\"all\"}).to_pandas()\n",
    "                        # default: filter=None -> show all products \n",
    "                        # return dic with product_id an short description provided by the user when uploaded"
   ]
  },
  {
   "cell_type": "markdown",
   "metadata": {},
   "source": [
    "#### Get metadata of a given data product of Photo-z Validation Results"
   ]
  },
  {
   "cell_type": "code",
   "execution_count": null,
   "metadata": {},
   "outputs": [],
   "source": [
    "metadata_pz_result = PzServer.get_product_metadata(product_id=\"0006\")\n",
    "metadata_pz_result  # markdown table"
   ]
  },
  {
   "cell_type": "markdown",
   "metadata": {},
   "source": [
    "#### Retrieve a given Photo-z Validation Result: download .tar file\n",
    "\n",
    "This product type is not necessarily (only) tabular data and can be a list of files, so the function `get_produt` will not return an Astropy table. Instead, it will return the name of the tar file downloaded to the local directory. "
   ]
  },
  {
   "cell_type": "code",
   "execution_count": null,
   "metadata": {},
   "outputs": [],
   "source": [
    "pz_result = PzServer.get_product(product_id=\"0006\", save_file=\"True\")\n",
    "pz_result # string tar file name"
   ]
  },
  {
   "cell_type": "markdown",
   "metadata": {},
   "source": [
    "#### Basic Photo-z Validation Plots\n",
    "\n",
    "Reuse RAIL evaluation plots and tables for illustration with an example of Photo-z Validation Results. "
   ]
  },
  {
   "cell_type": "code",
   "execution_count": null,
   "metadata": {},
   "outputs": [],
   "source": [
    "#  open .tar file "
   ]
  },
  {
   "cell_type": "code",
   "execution_count": null,
   "metadata": {},
   "outputs": [],
   "source": [
    "from RAIL.examples.evaluation.utils import *\n",
    "from RAIL.rail.evaluation.metrics.pit import *\n",
    "from RAIL.rail.evaluation.metrics.cdeloss import *"
   ]
  },
  {
   "cell_type": "code",
   "execution_count": null,
   "metadata": {},
   "outputs": [],
   "source": [
    "my_path = 'xxx/xxx/xx' \n",
    "pdfs_file =  os.path.join(my_path, \"pdfs_FZBoost.hdf5\")\n",
    "ztrue_file =  os.path.join(my_path, \"ztrue_validation_set.hdf5\")\n",
    "pdfs, zgrid, ztrue, photoz_mode = read_pz_output(pdfs_file, ztrue_file) # all numpy arrays"
   ]
  },
  {
   "cell_type": "markdown",
   "metadata": {},
   "source": [
    "Plot PIT-QQ"
   ]
  },
  {
   "cell_type": "code",
   "execution_count": null,
   "metadata": {},
   "outputs": [],
   "source": [
    "plot_pit_qq(pdfs, zgrid, ztrue, title=\"PIT-QQ - toy data\", code=\"FZBoost\",\n",
    "                pit_out_rate=pit_out_rate, savefig=False)"
   ]
  },
  {
   "cell_type": "markdown",
   "metadata": {},
   "source": [
    "PZ Validation metrics table"
   ]
  },
  {
   "cell_type": "code",
   "execution_count": null,
   "metadata": {},
   "outputs": [],
   "source": [
    "summary = Summary(pdfs, zgrid, ztrue)\n",
    "summary.markdown_metrics_table(pitobj=pitobj) # pitobj as optional input to speed-up metrics evaluation"
   ]
  }
 ],
 "metadata": {
  "kernelspec": {
   "display_name": "Python 3",
   "language": "python",
   "name": "python3"
  },
  "language_info": {
   "codemirror_mode": {
    "name": "ipython",
    "version": 3
   },
   "file_extension": ".py",
   "mimetype": "text/x-python",
   "name": "python",
   "nbconvert_exporter": "python",
   "pygments_lexer": "ipython3",
   "version": "3.7.6"
  },
  "vscode": {
   "interpreter": {
    "hash": "e9b653658693761946b8083bc5972c6593ddffeb81a0a81b81eabc816026cfc3"
   }
  }
 },
 "nbformat": 4,
 "nbformat_minor": 4
}
